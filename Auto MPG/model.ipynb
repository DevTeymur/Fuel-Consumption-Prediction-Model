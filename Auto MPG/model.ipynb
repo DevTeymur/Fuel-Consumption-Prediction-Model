{
 "cells": [
  {
   "cell_type": "markdown",
   "id": "fef4b3c5",
   "metadata": {},
   "source": [
    "# Libraries"
   ]
  },
  {
   "cell_type": "code",
   "execution_count": 1,
   "id": "e6d36a50",
   "metadata": {},
   "outputs": [],
   "source": [
    "import pandas as pd\n",
    "import seaborn as sns\n",
    "import numpy as np\n",
    "from matplotlib import pyplot as plt\n",
    "from warnings import filterwarnings\n",
    "filterwarnings('ignore')"
   ]
  },
  {
   "cell_type": "code",
   "execution_count": 26,
   "id": "d450182f",
   "metadata": {},
   "outputs": [],
   "source": [
    "columns_name=['MPG', 'Cylinders', 'Displacement', 'Horsepower', 'weight', 'Acceleration', 'Model Year', 'Origin']\n",
    "df=pd.read_csv('auto-mpg.data', names=columns_name, na_values=\"?\", comment='\\t',\n",
    "                sep=' ', skipinitialspace=True)"
   ]
  },
  {
   "cell_type": "code",
   "execution_count": 3,
   "id": "337ed355",
   "metadata": {},
   "outputs": [
    {
     "name": "stdout",
     "output_type": "stream",
     "text": [
      "<class 'pandas.core.frame.DataFrame'>\n",
      "RangeIndex: 398 entries, 0 to 397\n",
      "Data columns (total 8 columns):\n",
      " #   Column        Non-Null Count  Dtype  \n",
      "---  ------        --------------  -----  \n",
      " 0   MPG           398 non-null    float64\n",
      " 1   Cylinders     398 non-null    int64  \n",
      " 2   Displacement  398 non-null    float64\n",
      " 3   Horsepower    392 non-null    float64\n",
      " 4   weight        398 non-null    float64\n",
      " 5   Acceleration  398 non-null    float64\n",
      " 6   Model Year    398 non-null    int64  \n",
      " 7   Origin        398 non-null    int64  \n",
      "dtypes: float64(5), int64(3)\n",
      "memory usage: 25.0 KB\n"
     ]
    }
   ],
   "source": [
    "df.info()"
   ]
  },
  {
   "cell_type": "code",
   "execution_count": 4,
   "id": "ab1c744e",
   "metadata": {},
   "outputs": [
    {
     "data": {
      "text/plain": [
       "Index(['MPG', 'Cylinders', 'Displacement', 'Horsepower', 'weight',\n",
       "       'Acceleration', 'Model Year', 'Origin'],\n",
       "      dtype='object')"
      ]
     },
     "execution_count": 4,
     "metadata": {},
     "output_type": "execute_result"
    }
   ],
   "source": [
    "df.columns"
   ]
  },
  {
   "cell_type": "code",
   "execution_count": 7,
   "id": "4fa9693a",
   "metadata": {},
   "outputs": [
    {
     "data": {
      "text/plain": [
       "(398, 8)"
      ]
     },
     "execution_count": 7,
     "metadata": {},
     "output_type": "execute_result"
    }
   ],
   "source": [
    "df.shape"
   ]
  },
  {
   "cell_type": "code",
   "execution_count": 6,
   "id": "6fdd8caf",
   "metadata": {},
   "outputs": [
    {
     "data": {
      "text/html": [
       "<div>\n",
       "<style scoped>\n",
       "    .dataframe tbody tr th:only-of-type {\n",
       "        vertical-align: middle;\n",
       "    }\n",
       "\n",
       "    .dataframe tbody tr th {\n",
       "        vertical-align: top;\n",
       "    }\n",
       "\n",
       "    .dataframe thead th {\n",
       "        text-align: right;\n",
       "    }\n",
       "</style>\n",
       "<table border=\"1\" class=\"dataframe\">\n",
       "  <thead>\n",
       "    <tr style=\"text-align: right;\">\n",
       "      <th></th>\n",
       "      <th>count</th>\n",
       "      <th>mean</th>\n",
       "      <th>std</th>\n",
       "      <th>min</th>\n",
       "      <th>25%</th>\n",
       "      <th>50%</th>\n",
       "      <th>75%</th>\n",
       "      <th>max</th>\n",
       "    </tr>\n",
       "  </thead>\n",
       "  <tbody>\n",
       "    <tr>\n",
       "      <th>MPG</th>\n",
       "      <td>398.0</td>\n",
       "      <td>23.514573</td>\n",
       "      <td>7.815984</td>\n",
       "      <td>9.0</td>\n",
       "      <td>17.500</td>\n",
       "      <td>23.0</td>\n",
       "      <td>29.000</td>\n",
       "      <td>46.6</td>\n",
       "    </tr>\n",
       "    <tr>\n",
       "      <th>Cylinders</th>\n",
       "      <td>398.0</td>\n",
       "      <td>5.454774</td>\n",
       "      <td>1.701004</td>\n",
       "      <td>3.0</td>\n",
       "      <td>4.000</td>\n",
       "      <td>4.0</td>\n",
       "      <td>8.000</td>\n",
       "      <td>8.0</td>\n",
       "    </tr>\n",
       "    <tr>\n",
       "      <th>Displacement</th>\n",
       "      <td>398.0</td>\n",
       "      <td>193.425879</td>\n",
       "      <td>104.269838</td>\n",
       "      <td>68.0</td>\n",
       "      <td>104.250</td>\n",
       "      <td>148.5</td>\n",
       "      <td>262.000</td>\n",
       "      <td>455.0</td>\n",
       "    </tr>\n",
       "    <tr>\n",
       "      <th>Horsepower</th>\n",
       "      <td>392.0</td>\n",
       "      <td>104.469388</td>\n",
       "      <td>38.491160</td>\n",
       "      <td>46.0</td>\n",
       "      <td>75.000</td>\n",
       "      <td>93.5</td>\n",
       "      <td>126.000</td>\n",
       "      <td>230.0</td>\n",
       "    </tr>\n",
       "    <tr>\n",
       "      <th>weight</th>\n",
       "      <td>398.0</td>\n",
       "      <td>2970.424623</td>\n",
       "      <td>846.841774</td>\n",
       "      <td>1613.0</td>\n",
       "      <td>2223.750</td>\n",
       "      <td>2803.5</td>\n",
       "      <td>3608.000</td>\n",
       "      <td>5140.0</td>\n",
       "    </tr>\n",
       "    <tr>\n",
       "      <th>Acceleration</th>\n",
       "      <td>398.0</td>\n",
       "      <td>15.568090</td>\n",
       "      <td>2.757689</td>\n",
       "      <td>8.0</td>\n",
       "      <td>13.825</td>\n",
       "      <td>15.5</td>\n",
       "      <td>17.175</td>\n",
       "      <td>24.8</td>\n",
       "    </tr>\n",
       "    <tr>\n",
       "      <th>Model Year</th>\n",
       "      <td>398.0</td>\n",
       "      <td>76.010050</td>\n",
       "      <td>3.697627</td>\n",
       "      <td>70.0</td>\n",
       "      <td>73.000</td>\n",
       "      <td>76.0</td>\n",
       "      <td>79.000</td>\n",
       "      <td>82.0</td>\n",
       "    </tr>\n",
       "    <tr>\n",
       "      <th>Origin</th>\n",
       "      <td>398.0</td>\n",
       "      <td>1.572864</td>\n",
       "      <td>0.802055</td>\n",
       "      <td>1.0</td>\n",
       "      <td>1.000</td>\n",
       "      <td>1.0</td>\n",
       "      <td>2.000</td>\n",
       "      <td>3.0</td>\n",
       "    </tr>\n",
       "  </tbody>\n",
       "</table>\n",
       "</div>"
      ],
      "text/plain": [
       "              count         mean         std     min       25%     50%  \\\n",
       "MPG           398.0    23.514573    7.815984     9.0    17.500    23.0   \n",
       "Cylinders     398.0     5.454774    1.701004     3.0     4.000     4.0   \n",
       "Displacement  398.0   193.425879  104.269838    68.0   104.250   148.5   \n",
       "Horsepower    392.0   104.469388   38.491160    46.0    75.000    93.5   \n",
       "weight        398.0  2970.424623  846.841774  1613.0  2223.750  2803.5   \n",
       "Acceleration  398.0    15.568090    2.757689     8.0    13.825    15.5   \n",
       "Model Year    398.0    76.010050    3.697627    70.0    73.000    76.0   \n",
       "Origin        398.0     1.572864    0.802055     1.0     1.000     1.0   \n",
       "\n",
       "                   75%     max  \n",
       "MPG             29.000    46.6  \n",
       "Cylinders        8.000     8.0  \n",
       "Displacement   262.000   455.0  \n",
       "Horsepower     126.000   230.0  \n",
       "weight        3608.000  5140.0  \n",
       "Acceleration    17.175    24.8  \n",
       "Model Year      79.000    82.0  \n",
       "Origin           2.000     3.0  "
      ]
     },
     "execution_count": 6,
     "metadata": {},
     "output_type": "execute_result"
    }
   ],
   "source": [
    "df.describe().T"
   ]
  },
  {
   "cell_type": "code",
   "execution_count": 11,
   "id": "dce46120",
   "metadata": {},
   "outputs": [
    {
     "data": {
      "text/html": [
       "<div>\n",
       "<style scoped>\n",
       "    .dataframe tbody tr th:only-of-type {\n",
       "        vertical-align: middle;\n",
       "    }\n",
       "\n",
       "    .dataframe tbody tr th {\n",
       "        vertical-align: top;\n",
       "    }\n",
       "\n",
       "    .dataframe thead th {\n",
       "        text-align: right;\n",
       "    }\n",
       "</style>\n",
       "<table border=\"1\" class=\"dataframe\">\n",
       "  <thead>\n",
       "    <tr style=\"text-align: right;\">\n",
       "      <th></th>\n",
       "      <th>MPG</th>\n",
       "      <th>Cylinders</th>\n",
       "      <th>Displacement</th>\n",
       "      <th>Horsepower</th>\n",
       "      <th>weight</th>\n",
       "      <th>Acceleration</th>\n",
       "      <th>Model Year</th>\n",
       "      <th>Origin</th>\n",
       "    </tr>\n",
       "  </thead>\n",
       "  <tbody>\n",
       "    <tr>\n",
       "      <th>0</th>\n",
       "      <td>18.0</td>\n",
       "      <td>8</td>\n",
       "      <td>307.0</td>\n",
       "      <td>130.0</td>\n",
       "      <td>3504.0</td>\n",
       "      <td>12.0</td>\n",
       "      <td>70</td>\n",
       "      <td>1</td>\n",
       "    </tr>\n",
       "    <tr>\n",
       "      <th>1</th>\n",
       "      <td>15.0</td>\n",
       "      <td>8</td>\n",
       "      <td>350.0</td>\n",
       "      <td>165.0</td>\n",
       "      <td>3693.0</td>\n",
       "      <td>11.5</td>\n",
       "      <td>70</td>\n",
       "      <td>1</td>\n",
       "    </tr>\n",
       "    <tr>\n",
       "      <th>2</th>\n",
       "      <td>18.0</td>\n",
       "      <td>8</td>\n",
       "      <td>318.0</td>\n",
       "      <td>150.0</td>\n",
       "      <td>3436.0</td>\n",
       "      <td>11.0</td>\n",
       "      <td>70</td>\n",
       "      <td>1</td>\n",
       "    </tr>\n",
       "    <tr>\n",
       "      <th>3</th>\n",
       "      <td>16.0</td>\n",
       "      <td>8</td>\n",
       "      <td>304.0</td>\n",
       "      <td>150.0</td>\n",
       "      <td>3433.0</td>\n",
       "      <td>12.0</td>\n",
       "      <td>70</td>\n",
       "      <td>1</td>\n",
       "    </tr>\n",
       "    <tr>\n",
       "      <th>4</th>\n",
       "      <td>17.0</td>\n",
       "      <td>8</td>\n",
       "      <td>302.0</td>\n",
       "      <td>140.0</td>\n",
       "      <td>3449.0</td>\n",
       "      <td>10.5</td>\n",
       "      <td>70</td>\n",
       "      <td>1</td>\n",
       "    </tr>\n",
       "  </tbody>\n",
       "</table>\n",
       "</div>"
      ],
      "text/plain": [
       "    MPG  Cylinders  Displacement  Horsepower  weight  Acceleration  \\\n",
       "0  18.0          8         307.0       130.0  3504.0          12.0   \n",
       "1  15.0          8         350.0       165.0  3693.0          11.5   \n",
       "2  18.0          8         318.0       150.0  3436.0          11.0   \n",
       "3  16.0          8         304.0       150.0  3433.0          12.0   \n",
       "4  17.0          8         302.0       140.0  3449.0          10.5   \n",
       "\n",
       "   Model Year  Origin  \n",
       "0          70       1  \n",
       "1          70       1  \n",
       "2          70       1  \n",
       "3          70       1  \n",
       "4          70       1  "
      ]
     },
     "execution_count": 11,
     "metadata": {},
     "output_type": "execute_result"
    }
   ],
   "source": [
    "df.head()"
   ]
  },
  {
   "cell_type": "code",
   "execution_count": 27,
   "id": "ca579c53",
   "metadata": {},
   "outputs": [],
   "source": [
    "df['Model Year']=df['Model Year']+1900"
   ]
  },
  {
   "cell_type": "code",
   "execution_count": 46,
   "id": "ccdb61e9",
   "metadata": {},
   "outputs": [
    {
     "data": {
      "image/png": "[encoded data removed]",
      "text/plain": [
       "<Figure size 576x360 with 1 Axes>"
      ]
     },
     "metadata": {
      "needs_background": "light"
     },
     "output_type": "display_data"
    }
   ],
   "source": [
    "plt.figure(figsize=(8,5))\n",
    "sns.countplot(x='Model Year',data=df)\n",
    "plt.title('Number of cars by years')\n",
    "plt.show()"
   ]
  },
  {
   "cell_type": "code",
   "execution_count": 28,
   "id": "ff0f02a3",
   "metadata": {},
   "outputs": [],
   "source": [
    "df['Origin'] = df['Origin'].replace([1, 2, 3], ['USA', 'Europe', 'Japan'])"
   ]
  },
  {
   "cell_type": "code",
   "execution_count": 50,
   "id": "adb3cd3b",
   "metadata": {},
   "outputs": [
    {
     "data": {
      "text/plain": [
       "<AxesSubplot:ylabel='Origin'>"
      ]
     },
     "execution_count": 50,
     "metadata": {},
     "output_type": "execute_result"
    },
    {
     "data": {
      "image/png": "[encoded data removed]",
      "text/plain": [
       "<Figure size 432x288 with 1 Axes>"
      ]
     },
     "metadata": {},
     "output_type": "display_data"
    }
   ],
   "source": [
    "df['Origin'].value_counts().plot.pie(autopct='%1.1f%%')"
   ]
  },
  {
   "cell_type": "code",
   "execution_count": 12,
   "id": "d19229c4",
   "metadata": {},
   "outputs": [
    {
     "data": {
      "text/plain": [
       "MPG             129\n",
       "Cylinders         5\n",
       "Displacement     82\n",
       "Horsepower       93\n",
       "weight          351\n",
       "Acceleration     95\n",
       "Model Year       13\n",
       "Origin            3\n",
       "dtype: int64"
      ]
     },
     "execution_count": 12,
     "metadata": {},
     "output_type": "execute_result"
    }
   ],
   "source": [
    "df.nunique()"
   ]
  },
  {
   "cell_type": "code",
   "execution_count": 13,
   "id": "ca1faa5c",
   "metadata": {},
   "outputs": [
    {
     "data": {
      "text/plain": [
       "MPG             0\n",
       "Cylinders       0\n",
       "Displacement    0\n",
       "Horsepower      6\n",
       "weight          0\n",
       "Acceleration    0\n",
       "Model Year      0\n",
       "Origin          0\n",
       "dtype: int64"
      ]
     },
     "execution_count": 13,
     "metadata": {},
     "output_type": "execute_result"
    }
   ],
   "source": [
    "df.isnull().sum()"
   ]
  },
  {
   "cell_type": "code",
   "execution_count": 14,
   "id": "a70db18f",
   "metadata": {},
   "outputs": [
    {
     "data": {
      "text/plain": [
       "93"
      ]
     },
     "execution_count": 14,
     "metadata": {},
     "output_type": "execute_result"
    }
   ],
   "source": [
    "df.Horsepower.nunique()"
   ]
  },
  {
   "cell_type": "code",
   "execution_count": 16,
   "id": "2d195d6d",
   "metadata": {},
   "outputs": [
    {
     "data": {
      "text/plain": [
       "0.01507537688442211"
      ]
     },
     "execution_count": 16,
     "metadata": {},
     "output_type": "execute_result"
    }
   ],
   "source": [
    "df.Horsepower.isnull().sum()/df.shape[0]"
   ]
  },
  {
   "cell_type": "code",
   "execution_count": 29,
   "id": "df71d60b",
   "metadata": {},
   "outputs": [],
   "source": [
    "df.dropna(axis=0,inplace=True)"
   ]
  },
  {
   "cell_type": "code",
   "execution_count": 18,
   "id": "7497c73f",
   "metadata": {},
   "outputs": [
    {
     "data": {
      "text/plain": [
       "0"
      ]
     },
     "execution_count": 18,
     "metadata": {},
     "output_type": "execute_result"
    }
   ],
   "source": [
    "df.isnull().sum().sum()"
   ]
  },
  {
   "cell_type": "code",
   "execution_count": 23,
   "id": "cf1e94e4",
   "metadata": {},
   "outputs": [],
   "source": [
    "def correlation(df, size=[10, 7]):\n",
    "    f, ax = plt.subplots(figsize= size)\n",
    "    sns.heatmap(df.corr(), annot=True, fmt=\".2f\", ax=ax, cmap = \"magma\" )\n",
    "    ax.set_title(\"Correlation Matrix\", fontsize=20)\n",
    "    plt.show()"
   ]
  },
  {
   "cell_type": "code",
   "execution_count": 24,
   "id": "9f2b2aad",
   "metadata": {},
   "outputs": [
    {
     "data": {
      "image/png": "[encoded data removed]",
      "text/plain": [
       "<Figure size 720x504 with 2 Axes>"
      ]
     },
     "metadata": {
      "needs_background": "light"
     },
     "output_type": "display_data"
    }
   ],
   "source": [
    "correlation(df)"
   ]
  },
  {
   "cell_type": "code",
   "execution_count": 30,
   "id": "29f30986",
   "metadata": {},
   "outputs": [],
   "source": [
    "num_cols = [col for col in df.columns if df[col].dtypes != \"O\"]"
   ]
  },
  {
   "cell_type": "code",
   "execution_count": 54,
   "id": "871f2e49",
   "metadata": {},
   "outputs": [
    {
     "data": {
      "image/png": "[encoded data removed]",
      "text/plain": [
       "<Figure size 432x288 with 1 Axes>"
      ]
     },
     "metadata": {
      "needs_background": "light"
     },
     "output_type": "display_data"
    },
    {
     "data": {
      "image/png": "[encoded data removed]",
      "text/plain": [
       "<Figure size 432x288 with 1 Axes>"
      ]
     },
     "metadata": {
      "needs_background": "light"
     },
     "output_type": "display_data"
    },
    {
     "data": {
      "image/png": "[encoded data removed]",
      "text/plain": [
       "<Figure size 432x288 with 1 Axes>"
      ]
     },
     "metadata": {
      "needs_background": "light"
     },
     "output_type": "display_data"
    },
    {
     "data": {
      "image/png": "[encoded data removed]",
      "text/plain": [
       "<Figure size 432x288 with 1 Axes>"
      ]
     },
     "metadata": {
      "needs_background": "light"
     },
     "output_type": "display_data"
    },
    {
     "data": {
      "image/png": "[encoded data removed]",
      "text/plain": [
       "<Figure size 432x288 with 1 Axes>"
      ]
     },
     "metadata": {
      "needs_background": "light"
     },
     "output_type": "display_data"
    },
    {
     "data": {
      "image/png": "[encoded data removed]",
      "text/plain": [
       "<Figure size 432x288 with 1 Axes>"
      ]
     },
     "metadata": {
      "needs_background": "light"
     },
     "output_type": "display_data"
    },
    {
     "data": {
      "image/png": "[encoded data removed]",
      "text/plain": [
       "<Figure size 432x288 with 1 Axes>"
      ]
     },
     "metadata": {
      "needs_background": "light"
     },
     "output_type": "display_data"
    }
   ],
   "source": [
    "for i in num_cols:\n",
    "    sns.boxplot(df[i])\n",
    "    plt.show()"
   ]
  },
  {
   "cell_type": "code",
   "execution_count": 31,
   "id": "50085de3",
   "metadata": {},
   "outputs": [],
   "source": [
    "def outliers(df, col_name, q1=0.05, q3=0.95):\n",
    "    quartile1 = df[col_name].quantile(q1)\n",
    "    quartile3 = df[col_name].quantile(q3)\n",
    "    IQR = quartile3 - quartile1\n",
    "    up_limit = quartile3 + 1.5 * IQR\n",
    "    low_limit = quartile1 - 1.5 * IQR\n",
    "    return df[(df[col_name]>=low_limit) & (df[col_name]<=up_limit)]"
   ]
  },
  {
   "cell_type": "code",
   "execution_count": 32,
   "id": "f3403bc5",
   "metadata": {},
   "outputs": [],
   "source": [
    "df=outliers(df, 'Acceleration')"
   ]
  },
  {
   "cell_type": "code",
   "execution_count": 33,
   "id": "ecf484de",
   "metadata": {},
   "outputs": [],
   "source": [
    "df=outliers(df, 'Horsepower')"
   ]
  },
  {
   "cell_type": "markdown",
   "id": "ce01b724",
   "metadata": {},
   "source": [
    "# Encoding "
   ]
  },
  {
   "cell_type": "code",
   "execution_count": 34,
   "id": "0094b052",
   "metadata": {},
   "outputs": [],
   "source": [
    "df=pd.get_dummies(df)"
   ]
  },
  {
   "cell_type": "code",
   "execution_count": 35,
   "id": "2bdf968a",
   "metadata": {},
   "outputs": [
    {
     "data": {
      "text/html": [
       "<div>\n",
       "<style scoped>\n",
       "    .dataframe tbody tr th:only-of-type {\n",
       "        vertical-align: middle;\n",
       "    }\n",
       "\n",
       "    .dataframe tbody tr th {\n",
       "        vertical-align: top;\n",
       "    }\n",
       "\n",
       "    .dataframe thead th {\n",
       "        text-align: right;\n",
       "    }\n",
       "</style>\n",
       "<table border=\"1\" class=\"dataframe\">\n",
       "  <thead>\n",
       "    <tr style=\"text-align: right;\">\n",
       "      <th></th>\n",
       "      <th>MPG</th>\n",
       "      <th>Cylinders</th>\n",
       "      <th>Displacement</th>\n",
       "      <th>Horsepower</th>\n",
       "      <th>weight</th>\n",
       "      <th>Acceleration</th>\n",
       "      <th>Model Year</th>\n",
       "      <th>Origin_Europe</th>\n",
       "      <th>Origin_Japan</th>\n",
       "      <th>Origin_USA</th>\n",
       "    </tr>\n",
       "  </thead>\n",
       "  <tbody>\n",
       "    <tr>\n",
       "      <th>0</th>\n",
       "      <td>18.0</td>\n",
       "      <td>8</td>\n",
       "      <td>307.0</td>\n",
       "      <td>130.0</td>\n",
       "      <td>3504.0</td>\n",
       "      <td>12.0</td>\n",
       "      <td>1970</td>\n",
       "      <td>0</td>\n",
       "      <td>0</td>\n",
       "      <td>1</td>\n",
       "    </tr>\n",
       "    <tr>\n",
       "      <th>1</th>\n",
       "      <td>15.0</td>\n",
       "      <td>8</td>\n",
       "      <td>350.0</td>\n",
       "      <td>165.0</td>\n",
       "      <td>3693.0</td>\n",
       "      <td>11.5</td>\n",
       "      <td>1970</td>\n",
       "      <td>0</td>\n",
       "      <td>0</td>\n",
       "      <td>1</td>\n",
       "    </tr>\n",
       "    <tr>\n",
       "      <th>2</th>\n",
       "      <td>18.0</td>\n",
       "      <td>8</td>\n",
       "      <td>318.0</td>\n",
       "      <td>150.0</td>\n",
       "      <td>3436.0</td>\n",
       "      <td>11.0</td>\n",
       "      <td>1970</td>\n",
       "      <td>0</td>\n",
       "      <td>0</td>\n",
       "      <td>1</td>\n",
       "    </tr>\n",
       "    <tr>\n",
       "      <th>3</th>\n",
       "      <td>16.0</td>\n",
       "      <td>8</td>\n",
       "      <td>304.0</td>\n",
       "      <td>150.0</td>\n",
       "      <td>3433.0</td>\n",
       "      <td>12.0</td>\n",
       "      <td>1970</td>\n",
       "      <td>0</td>\n",
       "      <td>0</td>\n",
       "      <td>1</td>\n",
       "    </tr>\n",
       "    <tr>\n",
       "      <th>4</th>\n",
       "      <td>17.0</td>\n",
       "      <td>8</td>\n",
       "      <td>302.0</td>\n",
       "      <td>140.0</td>\n",
       "      <td>3449.0</td>\n",
       "      <td>10.5</td>\n",
       "      <td>1970</td>\n",
       "      <td>0</td>\n",
       "      <td>0</td>\n",
       "      <td>1</td>\n",
       "    </tr>\n",
       "  </tbody>\n",
       "</table>\n",
       "</div>"
      ],
      "text/plain": [
       "    MPG  Cylinders  Displacement  Horsepower  weight  Acceleration  \\\n",
       "0  18.0          8         307.0       130.0  3504.0          12.0   \n",
       "1  15.0          8         350.0       165.0  3693.0          11.5   \n",
       "2  18.0          8         318.0       150.0  3436.0          11.0   \n",
       "3  16.0          8         304.0       150.0  3433.0          12.0   \n",
       "4  17.0          8         302.0       140.0  3449.0          10.5   \n",
       "\n",
       "   Model Year  Origin_Europe  Origin_Japan  Origin_USA  \n",
       "0        1970              0             0           1  \n",
       "1        1970              0             0           1  \n",
       "2        1970              0             0           1  \n",
       "3        1970              0             0           1  \n",
       "4        1970              0             0           1  "
      ]
     },
     "execution_count": 35,
     "metadata": {},
     "output_type": "execute_result"
    }
   ],
   "source": [
    "df.head()"
   ]
  },
  {
   "cell_type": "code",
   "execution_count": 36,
   "id": "9da3dbcf",
   "metadata": {},
   "outputs": [],
   "source": [
    "from sklearn.preprocessing import MinMaxScaler"
   ]
  },
  {
   "cell_type": "code",
   "execution_count": 37,
   "id": "9f12d02c",
   "metadata": {},
   "outputs": [],
   "source": [
    "def minmax_scaler(df, col_names, feature_range=(0,1)):\n",
    "    minmax_scaler = MinMaxScaler(feature_range=feature_range)\n",
    "    col_names=[col for col in col_names]\n",
    "    df[col_names] = minmax_scaler.fit_transform(df[col_names])\n",
    "    return df"
   ]
  },
  {
   "cell_type": "code",
   "execution_count": 38,
   "id": "6fe94d2a",
   "metadata": {},
   "outputs": [],
   "source": [
    "num_cols=[col for col in df.columns if df[col].dtypes != \"O\"]"
   ]
  },
  {
   "cell_type": "code",
   "execution_count": 39,
   "id": "f6058da8",
   "metadata": {},
   "outputs": [],
   "source": [
    "df=minmax_scaler(df, num_cols)"
   ]
  },
  {
   "cell_type": "code",
   "execution_count": 40,
   "id": "3a18d72a",
   "metadata": {},
   "outputs": [
    {
     "data": {
      "text/html": [
       "<div>\n",
       "<style scoped>\n",
       "    .dataframe tbody tr th:only-of-type {\n",
       "        vertical-align: middle;\n",
       "    }\n",
       "\n",
       "    .dataframe tbody tr th {\n",
       "        vertical-align: top;\n",
       "    }\n",
       "\n",
       "    .dataframe thead th {\n",
       "        text-align: right;\n",
       "    }\n",
       "</style>\n",
       "<table border=\"1\" class=\"dataframe\">\n",
       "  <thead>\n",
       "    <tr style=\"text-align: right;\">\n",
       "      <th></th>\n",
       "      <th>MPG</th>\n",
       "      <th>Cylinders</th>\n",
       "      <th>Displacement</th>\n",
       "      <th>Horsepower</th>\n",
       "      <th>weight</th>\n",
       "      <th>Acceleration</th>\n",
       "      <th>Model Year</th>\n",
       "      <th>Origin_Europe</th>\n",
       "      <th>Origin_Japan</th>\n",
       "      <th>Origin_USA</th>\n",
       "    </tr>\n",
       "  </thead>\n",
       "  <tbody>\n",
       "    <tr>\n",
       "      <th>0</th>\n",
       "      <td>0.239362</td>\n",
       "      <td>1.0</td>\n",
       "      <td>0.617571</td>\n",
       "      <td>0.456522</td>\n",
       "      <td>0.536150</td>\n",
       "      <td>0.238095</td>\n",
       "      <td>0.0</td>\n",
       "      <td>0.0</td>\n",
       "      <td>0.0</td>\n",
       "      <td>1.0</td>\n",
       "    </tr>\n",
       "    <tr>\n",
       "      <th>1</th>\n",
       "      <td>0.159574</td>\n",
       "      <td>1.0</td>\n",
       "      <td>0.728682</td>\n",
       "      <td>0.646739</td>\n",
       "      <td>0.589736</td>\n",
       "      <td>0.208333</td>\n",
       "      <td>0.0</td>\n",
       "      <td>0.0</td>\n",
       "      <td>0.0</td>\n",
       "      <td>1.0</td>\n",
       "    </tr>\n",
       "    <tr>\n",
       "      <th>2</th>\n",
       "      <td>0.239362</td>\n",
       "      <td>1.0</td>\n",
       "      <td>0.645995</td>\n",
       "      <td>0.565217</td>\n",
       "      <td>0.516870</td>\n",
       "      <td>0.178571</td>\n",
       "      <td>0.0</td>\n",
       "      <td>0.0</td>\n",
       "      <td>0.0</td>\n",
       "      <td>1.0</td>\n",
       "    </tr>\n",
       "    <tr>\n",
       "      <th>3</th>\n",
       "      <td>0.186170</td>\n",
       "      <td>1.0</td>\n",
       "      <td>0.609819</td>\n",
       "      <td>0.565217</td>\n",
       "      <td>0.516019</td>\n",
       "      <td>0.238095</td>\n",
       "      <td>0.0</td>\n",
       "      <td>0.0</td>\n",
       "      <td>0.0</td>\n",
       "      <td>1.0</td>\n",
       "    </tr>\n",
       "    <tr>\n",
       "      <th>4</th>\n",
       "      <td>0.212766</td>\n",
       "      <td>1.0</td>\n",
       "      <td>0.604651</td>\n",
       "      <td>0.510870</td>\n",
       "      <td>0.520556</td>\n",
       "      <td>0.148810</td>\n",
       "      <td>0.0</td>\n",
       "      <td>0.0</td>\n",
       "      <td>0.0</td>\n",
       "      <td>1.0</td>\n",
       "    </tr>\n",
       "  </tbody>\n",
       "</table>\n",
       "</div>"
      ],
      "text/plain": [
       "        MPG  Cylinders  Displacement  Horsepower    weight  Acceleration  \\\n",
       "0  0.239362        1.0      0.617571    0.456522  0.536150      0.238095   \n",
       "1  0.159574        1.0      0.728682    0.646739  0.589736      0.208333   \n",
       "2  0.239362        1.0      0.645995    0.565217  0.516870      0.178571   \n",
       "3  0.186170        1.0      0.609819    0.565217  0.516019      0.238095   \n",
       "4  0.212766        1.0      0.604651    0.510870  0.520556      0.148810   \n",
       "\n",
       "   Model Year  Origin_Europe  Origin_Japan  Origin_USA  \n",
       "0         0.0            0.0           0.0         1.0  \n",
       "1         0.0            0.0           0.0         1.0  \n",
       "2         0.0            0.0           0.0         1.0  \n",
       "3         0.0            0.0           0.0         1.0  \n",
       "4         0.0            0.0           0.0         1.0  "
      ]
     },
     "execution_count": 40,
     "metadata": {},
     "output_type": "execute_result"
    }
   ],
   "source": [
    "df.head()"
   ]
  },
  {
   "cell_type": "code",
   "execution_count": 41,
   "id": "aa1fd2d8",
   "metadata": {},
   "outputs": [],
   "source": [
    "X=df.drop(['MPG'], axis=1)\n",
    "Y=df['MPG']"
   ]
  },
  {
   "cell_type": "markdown",
   "id": "72a09c77",
   "metadata": {},
   "source": [
    "# Model"
   ]
  },
  {
   "cell_type": "code",
   "execution_count": 16,
   "id": "05a20d06",
   "metadata": {},
   "outputs": [],
   "source": [
    "from sklearn.model_selection import train_test_split, GridSearchCV, cross_val_score\n",
    "from sklearn.linear_model import LinearRegression, Lasso, Ridge, ElasticNet, RidgeCV, LassoCV, ElasticNetCV, LogisticRegression\n",
    "from sklearn.metrics import mean_squared_error\n",
    "from sklearn.neighbors import KNeighborsRegressor\n",
    "from sklearn.tree import DecisionTreeRegressor\n",
    "from catboost import CatBoostRegressor\n",
    "from lightgbm import LGBMRegressor"
   ]
  },
  {
   "cell_type": "code",
   "execution_count": 42,
   "id": "fb6f21bf",
   "metadata": {},
   "outputs": [],
   "source": [
    "def randomstate(x,y):\n",
    "    min_error=100\n",
    "    model=Lasso()\n",
    "    for i in range(1,201):\n",
    "        xtrain,xtest,ytrain,ytest=train_test_split(x,y,test_size=0.25,random_state=i)\n",
    "        model.fit(xtrain,ytrain)\n",
    "        p=model.predict(xtest)\n",
    "        mse=mean_squared_error(ytest, p)\n",
    "        if mse<min_error:\n",
    "            min_error=mse\n",
    "            j=i\n",
    "    return j"
   ]
  },
  {
   "cell_type": "code",
   "execution_count": 43,
   "id": "a80ba280",
   "metadata": {},
   "outputs": [
    {
     "data": {
      "text/plain": [
       "97"
      ]
     },
     "execution_count": 43,
     "metadata": {},
     "output_type": "execute_result"
    }
   ],
   "source": [
    "rs=randomstate(X,Y)\n",
    "rs"
   ]
  },
  {
   "cell_type": "code",
   "execution_count": 19,
   "id": "d5d268bb",
   "metadata": {},
   "outputs": [],
   "source": [
    "def reg_models(x, y, algo):\n",
    "    X_train,X_test,Y_train,Y_test=train_test_split(x,y,test_size=0.25,random_state=rs)\n",
    "    algo.fit(X_train,Y_train)\n",
    "    Y_train_pred=algo.predict(X_train)\n",
    "    Y_test_pred=algo.predict(X_test)\n",
    "    score=cross_val_score(algo,x,y,cv=10)\n",
    "    train_error, train_score = mean_squared_error(Y_train, Y_train_pred), algo.score(X_train, Y_train)\n",
    "    test_error,  test_score = mean_squared_error(Y_test, Y_test_pred), algo.score(X_test, Y_test)\n",
    "    cross_score = np.round(score.mean(),4)\n",
    "    print(type(algo).__name__)\n",
    "    print('Train mse: {}'.format(train_error))\n",
    "    print('Train Score: {}'.format(train_score))\n",
    "    print('Test mse: {}'.format(test_error))\n",
    "    print('Test Score: {}'.format(test_score))\n",
    "    print('Mean of Cross Validation Score: {}'.format(cross_score))\n",
    "    print('------------------------------------------------------')\n",
    "    return (train_error, train_score, test_error,  test_score, cross_score)"
   ]
  },
  {
   "cell_type": "code",
   "execution_count": 20,
   "id": "296ec347",
   "metadata": {},
   "outputs": [],
   "source": [
    "models=[LinearRegression(), Ridge(), Lasso(), ElasticNet(), \n",
    "            KNeighborsRegressor(n_neighbors=3), DecisionTreeRegressor(max_depth=2)]"
   ]
  },
  {
   "cell_type": "code",
   "execution_count": 44,
   "id": "ed240d30",
   "metadata": {},
   "outputs": [
    {
     "name": "stdout",
     "output_type": "stream",
     "text": [
      "LinearRegression\n",
      "Train mse: 0.00796501391676203\n",
      "Train Score: 0.8288833878297237\n",
      "Test mse: 0.006609784288463035\n",
      "Test Score: 0.7770091949677254\n",
      "Mean of Cross Validation Score: 0.6421\n",
      "------------------------------------------------------\n",
      "Ridge\n",
      "Train mse: 0.008250663147827391\n",
      "Train Score: 0.8227466341215997\n",
      "Test mse: 0.007125995035255676\n",
      "Test Score: 0.7595940653704524\n",
      "Mean of Cross Validation Score: 0.6313\n",
      "------------------------------------------------------\n",
      "Lasso\n",
      "Train mse: 0.04654728617953311\n",
      "Train Score: 0.0\n",
      "Test mse: 0.03315450465057282\n",
      "Test Score: -0.11851603014969858\n",
      "Mean of Cross Validation Score: -0.9175\n",
      "------------------------------------------------------\n",
      "ElasticNet\n",
      "Train mse: 0.04654728617953311\n",
      "Train Score: 0.0\n",
      "Test mse: 0.03315450465057282\n",
      "Test Score: -0.11851603014969858\n",
      "Mean of Cross Validation Score: -0.9175\n",
      "------------------------------------------------------\n",
      "KNeighborsRegressor\n",
      "Train mse: 0.002717564598647669\n",
      "Train Score: 0.9416171205305931\n",
      "Test mse: 0.007768383873845298\n",
      "Test Score: 0.7379221320653253\n",
      "Mean of Cross Validation Score: 0.7268\n",
      "------------------------------------------------------\n",
      "DecisionTreeRegressor\n",
      "Train mse: 0.011302048529738807\n",
      "Train Score: 0.7571921059769897\n",
      "Test mse: 0.012955470716538938\n",
      "Test Score: 0.5629281201058921\n",
      "Mean of Cross Validation Score: 0.2951\n",
      "------------------------------------------------------\n"
     ]
    }
   ],
   "source": [
    "for model in models:\n",
    "    reg_models(X, Y, model)"
   ]
  },
  {
   "cell_type": "code",
   "execution_count": 22,
   "id": "47491aa4",
   "metadata": {},
   "outputs": [],
   "source": [
    "def light_gbm(df, Y):\n",
    "    lgbm=LGBMRegressor()\n",
    "    X=df.drop(Y, axis=1)\n",
    "    Y=df[[Y]]\n",
    "    X_train, X_test, Y_train, Y_test=train_test_split(X, Y, random_state=rs, test_size=0.20)\n",
    "    lgbm.fit(X_train, Y_train)\n",
    "\n",
    "    Y_pred=lgbm.predict(X_test,num_iteration=lgbm.best_iteration_)\n",
    "\n",
    "    print((mean_squared_error(Y_test, Y_pred)))"
   ]
  },
  {
   "cell_type": "code",
   "execution_count": 45,
   "id": "ce681ae5",
   "metadata": {},
   "outputs": [
    {
     "name": "stdout",
     "output_type": "stream",
     "text": [
      "0.0073040417800176605\n"
     ]
    }
   ],
   "source": [
    "light_gbm(df,'MPG')"
   ]
  },
  {
   "cell_type": "code",
   "execution_count": 46,
   "id": "ec1c6255",
   "metadata": {},
   "outputs": [
    {
     "data": {
      "application/vnd.jupyter.widget-view+json": {
       "model_id": "2903502390dd47a0bc2bed81088ebaa6",
       "version_major": 2,
       "version_minor": 0
      },
      "text/plain": [
       "MetricVisualizer(layout=Layout(align_self='stretch', height='500px'))"
      ]
     },
     "metadata": {},
     "output_type": "display_data"
    },
    {
     "name": "stdout",
     "output_type": "stream",
     "text": [
      "Test RMSE:  0.08029408169176952\n"
     ]
    }
   ],
   "source": [
    "params = {'iterations': 6000,\n",
    "          'learning_rate': 0.005,\n",
    "          'depth': 4,\n",
    "          'l2_leaf_reg': 1,\n",
    "          'eval_metric':'RMSE',\n",
    "          'early_stopping_rounds': 200,\n",
    "          'verbose': 200,\n",
    "          'random_seed': 42}\n",
    "\n",
    "\n",
    "X_train, X_test, Y_train, Y_test=train_test_split(X, Y, random_state=rs, test_size=0.20)\n",
    "\n",
    "         \n",
    "cat_f = CatBoostRegressor(**params)\n",
    "cat_model_f = cat_f.fit(X_train,Y_train,\n",
    "                     eval_set = (X_test,Y_test),\n",
    "                     plot=True,\n",
    "                     verbose = False)\n",
    "\n",
    "\n",
    "catf_pred = cat_model_f.predict(X_test)\n",
    "test_rmse=np.sqrt(mean_squared_error(Y_test, catf_pred))\n",
    "print('Test RMSE: ', test_rmse)"
   ]
  },
  {
   "cell_type": "markdown",
   "id": "bfc2d701",
   "metadata": {},
   "source": [
    "# Model Tuning"
   ]
  },
  {
   "cell_type": "code",
   "execution_count": 47,
   "id": "c0da9d7f",
   "metadata": {},
   "outputs": [],
   "source": [
    "def model_tuning(x, y, algo_cv, algo, alphas, test_size=0.20, cv=10):\n",
    "    X_train, X_test, Y_train, Y_test=train_test_split(X, Y, random_state=rs, test_size=test_size)\n",
    "    model_cv=algo_cv(alphas=alphas, cv=cv)\n",
    "    model_cv.fit(X_train, Y_train)\n",
    "    model_tuned=algo(alpha=model_cv.alpha_)\n",
    "    model_tuned.fit(X_train, Y_train)\n",
    "    print(type(model_tuned).__name__)\n",
    "    Y_train_pred=model_tuned.predict(X_train)\n",
    "    train_rmse=mean_squared_error(Y_train, Y_train_pred)\n",
    "    print(\"Train mse: {}\".format(train_rmse))\n",
    "    Y_test_pred=model_tuned.predict(X_test)\n",
    "    test_rmse=mean_squared_error(Y_test, Y_test_pred)\n",
    "    print(\"Test mse: {}\".format(test_rmse))\n",
    "    print('----------------------------------------')\n",
    "    return (type(model_tuned).__name__, train_rmse, test_rmse)"
   ]
  },
  {
   "cell_type": "code",
   "execution_count": 48,
   "id": "66e821d7",
   "metadata": {},
   "outputs": [],
   "source": [
    "cv_models={Ridge: RidgeCV, Lasso:LassoCV, ElasticNet:ElasticNetCV}\n",
    "results_tuned={'model':[], 'train_rmse':[], 'test_rmse':[]}\n",
    "alphas = [0.1,0.01, 0.005, 0.05, 0.001,0.2,0.3,0.5,0.8,0.9,1]"
   ]
  },
  {
   "cell_type": "code",
   "execution_count": 49,
   "id": "d25d5ede",
   "metadata": {},
   "outputs": [
    {
     "name": "stdout",
     "output_type": "stream",
     "text": [
      "Ridge\n",
      "Train mse: 0.007866327719429633\n",
      "Test mse: 0.006615914408743938\n",
      "----------------------------------------\n",
      "Lasso\n",
      "Train mse: 0.00810239574509302\n",
      "Test mse: 0.006609610800671738\n",
      "----------------------------------------\n",
      "ElasticNet\n",
      "Train mse: 0.008086778207778932\n",
      "Test mse: 0.006689336551150602\n",
      "----------------------------------------\n"
     ]
    }
   ],
   "source": [
    "for model in cv_models:\n",
    "    res=model_tuning(X, Y, cv_models[model], model, alphas)\n",
    "    results_tuned['model'].append(res[0])\n",
    "    results_tuned['train_rmse'].append(res[1])\n",
    "    results_tuned['test_rmse'].append(res[2])"
   ]
  },
  {
   "cell_type": "code",
   "execution_count": 50,
   "id": "3dc77c2b",
   "metadata": {},
   "outputs": [],
   "source": [
    "def light_gbm_tuning(df, Y):\n",
    "    X=df.drop(Y, axis=1)\n",
    "    Y=df[[Y]]\n",
    "    X_train, X_test, Y_train, Y_test=train_test_split(X, Y, random_state=42, test_size=0.20)\n",
    "    lgbm_grid={\n",
    "    'colsample_bytree':[0.4, 0.5, 0.6, 0.9, 1],\n",
    "    'learning_rate':[0.01, 0.1, 0.5, 1],\n",
    "           'n_estimators':[20, 40, 100, 200, 500, 1000],\n",
    "           'max_depth':[1, 2, 3, 4, 5, 6, 7, 8]}\n",
    "\n",
    "    lgbm=LGBMRegressor()\n",
    "\n",
    "    lgbm_cv_model=GridSearchCV(lgbm, lgbm_grid, cv=10,\n",
    "                           n_jobs=-1, verbose=2)\n",
    "\n",
    "    lgbm_cv_model.fit(X_train, Y_train)\n",
    "\n",
    "    #lgbm_cv_model.best_params_\n",
    "    lgbm_tuned=LGBMRegressor(learning_rate=0.1,\n",
    "                         max_depth=2,\n",
    "                         n_estimators=100,\n",
    "                         colsample_bytree=0.9)\n",
    "\n",
    "    lgbm_tuned.fit(X_train, Y_train)\n",
    "\n",
    "    Y_pred=lgbm_tuned.predict(X_test)\n",
    "\n",
    "    print(mean_squared_error(Y_test, Y_pred))"
   ]
  },
  {
   "cell_type": "markdown",
   "id": "bcd74fc5",
   "metadata": {},
   "source": [
    "# Final Model"
   ]
  },
  {
   "cell_type": "code",
   "execution_count": 52,
   "id": "1a9f8f3a",
   "metadata": {},
   "outputs": [
    {
     "name": "stdout",
     "output_type": "stream",
     "text": [
      "Fitting 10 folds for each of 960 candidates, totalling 9600 fits\n",
      "0.004724807003775202\n"
     ]
    }
   ],
   "source": [
    "light_gbm_tuning(df, 'MPG')"
   ]
  }
 ],
 "metadata": {
  "kernelspec": {
   "display_name": "Python 3",
   "language": "python",
   "name": "python3"
  },
  "language_info": {
   "codemirror_mode": {
    "name": "ipython",
    "version": 3
   },
   "file_extension": ".py",
   "mimetype": "text/x-python",
   "name": "python",
   "nbconvert_exporter": "python",
   "pygments_lexer": "ipython3",
   "version": "3.8.5"
  }
 },
 "nbformat": 4,
 "nbformat_minor": 5
}
